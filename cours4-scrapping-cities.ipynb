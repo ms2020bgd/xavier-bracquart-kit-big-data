{
 "cells": [
  {
   "cell_type": "markdown",
   "metadata": {},
   "source": [
    "# Crawling et utilisation de l'API distance24.org\n",
    "\n",
    "INFMDI721 - TP - 16/10/2019"
   ]
  },
  {
   "cell_type": "markdown",
   "metadata": {},
   "source": [
    "Consigne:\n",
    "\n",
    "- Trouver les 10 villes de France les + peuplées (e.g https://fr.wikipedia.org/wiki/Liste_des_communes_de_France_les_plus_peuplées)\n",
    "- Pour chaque ville, trouver sa distance avec les autres. Par exemple, avec google maps api (nécessite de s'authentifier / créer un token) avec https://github.com/googlemaps/google-maps-services-python (cf. doc token dans le readme) ou avec https://fr.distance24.org/ (pas besoin de s'authentifier)\n",
    "- Trouver les villes les plus proches\n"
   ]
  },
  {
   "cell_type": "code",
   "execution_count": 3,
   "metadata": {},
   "outputs": [],
   "source": [
    "import requests\n",
    "from bs4 import BeautifulSoup\n",
    "import pandas as pd"
   ]
  },
  {
   "cell_type": "markdown",
   "metadata": {},
   "source": [
    "## Récupération de la liste des villes"
   ]
  },
  {
   "cell_type": "code",
   "execution_count": 4,
   "metadata": {},
   "outputs": [],
   "source": [
    "page = \"https://fr.wikipedia.org/wiki/Liste_des_communes_de_France_les_plus_peupl%C3%A9es\"\n",
    "response = requests.get(page)\n",
    "soup = BeautifulSoup(response.text)"
   ]
  },
  {
   "cell_type": "code",
   "execution_count": 5,
   "metadata": {},
   "outputs": [],
   "source": [
    "rows = soup.find(\"table\").find_all(\"tr\")"
   ]
  },
  {
   "cell_type": "code",
   "execution_count": 6,
   "metadata": {},
   "outputs": [
    {
     "name": "stdout",
     "output_type": "stream",
     "text": [
      "['Paris', 'Marseille', 'Lyon', 'Toulouse', 'Nice', 'Nantes', 'Montpellier', 'Strasbourg', 'Bordeaux', 'Lille']\n"
     ]
    }
   ],
   "source": [
    "cities = []\n",
    "for row in rows:\n",
    "    city = row.find_all(\"td\")\n",
    "    if len(city) > 1:\n",
    "        city = city[1].find(\"a\").text\n",
    "        cities.append(city)\n",
    "        \n",
    "cities = cities[0:10]\n",
    "print(cities)"
   ]
  },
  {
   "cell_type": "markdown",
   "metadata": {},
   "source": [
    "## Remplissage d'un dataframe à partir de l'API"
   ]
  },
  {
   "cell_type": "code",
   "execution_count": 48,
   "metadata": {},
   "outputs": [
    {
     "data": {
      "text/html": [
       "<div>\n",
       "<style scoped>\n",
       "    .dataframe tbody tr th:only-of-type {\n",
       "        vertical-align: middle;\n",
       "    }\n",
       "\n",
       "    .dataframe tbody tr th {\n",
       "        vertical-align: top;\n",
       "    }\n",
       "\n",
       "    .dataframe thead th {\n",
       "        text-align: right;\n",
       "    }\n",
       "</style>\n",
       "<table border=\"1\" class=\"dataframe\">\n",
       "  <thead>\n",
       "    <tr style=\"text-align: right;\">\n",
       "      <th></th>\n",
       "      <th>Paris</th>\n",
       "      <th>Marseille</th>\n",
       "      <th>Lyon</th>\n",
       "      <th>Toulouse</th>\n",
       "      <th>Nice</th>\n",
       "      <th>Nantes</th>\n",
       "      <th>Montpellier</th>\n",
       "      <th>Strasbourg</th>\n",
       "      <th>Bordeaux</th>\n",
       "      <th>Lille</th>\n",
       "    </tr>\n",
       "  </thead>\n",
       "  <tbody>\n",
       "  </tbody>\n",
       "</table>\n",
       "</div>"
      ],
      "text/plain": [
       "Empty DataFrame\n",
       "Columns: [Paris, Marseille, Lyon, Toulouse, Nice, Nantes, Montpellier, Strasbourg, Bordeaux, Lille]\n",
       "Index: []"
      ]
     },
     "execution_count": 48,
     "metadata": {},
     "output_type": "execute_result"
    }
   ],
   "source": [
    "df = pd.DataFrame(columns=cities)\n",
    "df.head()"
   ]
  },
  {
   "cell_type": "code",
   "execution_count": 49,
   "metadata": {},
   "outputs": [],
   "source": [
    "def distance(cityA, cityB):\n",
    "    url = \"https://fr.distance24.org/route.json?stops=\"+cityA+\"|\"+cityB\n",
    "    res = requests.get(url).json()\n",
    "    return res[\"distance\"]"
   ]
  },
  {
   "cell_type": "code",
   "execution_count": 50,
   "metadata": {},
   "outputs": [
    {
     "name": "stdout",
     "output_type": "stream",
     "text": [
      "Paris\n",
      "Marseille\n",
      "Lyon\n",
      "Toulouse\n",
      "Nice\n",
      "Nantes\n",
      "Montpellier\n",
      "Strasbourg\n",
      "Bordeaux\n",
      "Lille\n"
     ]
    }
   ],
   "source": [
    "for cityA in cities:\n",
    "    print(cityA)\n",
    "    distances = {}\n",
    "    for cityB in cities:\n",
    "        distances[cityB] = distance(cityA, cityB)\n",
    "    df = df.append(distances, ignore_index=True)"
   ]
  },
  {
   "cell_type": "code",
   "execution_count": 51,
   "metadata": {},
   "outputs": [
    {
     "data": {
      "text/html": [
       "<div>\n",
       "<style scoped>\n",
       "    .dataframe tbody tr th:only-of-type {\n",
       "        vertical-align: middle;\n",
       "    }\n",
       "\n",
       "    .dataframe tbody tr th {\n",
       "        vertical-align: top;\n",
       "    }\n",
       "\n",
       "    .dataframe thead th {\n",
       "        text-align: right;\n",
       "    }\n",
       "</style>\n",
       "<table border=\"1\" class=\"dataframe\">\n",
       "  <thead>\n",
       "    <tr style=\"text-align: right;\">\n",
       "      <th></th>\n",
       "      <th>Paris</th>\n",
       "      <th>Marseille</th>\n",
       "      <th>Lyon</th>\n",
       "      <th>Toulouse</th>\n",
       "      <th>Nice</th>\n",
       "      <th>Nantes</th>\n",
       "      <th>Montpellier</th>\n",
       "      <th>Strasbourg</th>\n",
       "      <th>Bordeaux</th>\n",
       "      <th>Lille</th>\n",
       "    </tr>\n",
       "  </thead>\n",
       "  <tbody>\n",
       "    <tr>\n",
       "      <td>Paris</td>\n",
       "      <td>0</td>\n",
       "      <td>661</td>\n",
       "      <td>392</td>\n",
       "      <td>589</td>\n",
       "      <td>688</td>\n",
       "      <td>343</td>\n",
       "      <td>596</td>\n",
       "      <td>397</td>\n",
       "      <td>500</td>\n",
       "      <td>204</td>\n",
       "    </tr>\n",
       "    <tr>\n",
       "      <td>Marseille</td>\n",
       "      <td>661</td>\n",
       "      <td>0</td>\n",
       "      <td>278</td>\n",
       "      <td>319</td>\n",
       "      <td>159</td>\n",
       "      <td>696</td>\n",
       "      <td>126</td>\n",
       "      <td>617</td>\n",
       "      <td>506</td>\n",
       "      <td>835</td>\n",
       "    </tr>\n",
       "    <tr>\n",
       "      <td>Lyon</td>\n",
       "      <td>392</td>\n",
       "      <td>278</td>\n",
       "      <td>0</td>\n",
       "      <td>360</td>\n",
       "      <td>300</td>\n",
       "      <td>516</td>\n",
       "      <td>251</td>\n",
       "      <td>384</td>\n",
       "      <td>436</td>\n",
       "      <td>558</td>\n",
       "    </tr>\n",
       "    <tr>\n",
       "      <td>Toulouse</td>\n",
       "      <td>589</td>\n",
       "      <td>319</td>\n",
       "      <td>360</td>\n",
       "      <td>0</td>\n",
       "      <td>469</td>\n",
       "      <td>466</td>\n",
       "      <td>196</td>\n",
       "      <td>737</td>\n",
       "      <td>212</td>\n",
       "      <td>792</td>\n",
       "    </tr>\n",
       "    <tr>\n",
       "      <td>Nice</td>\n",
       "      <td>688</td>\n",
       "      <td>159</td>\n",
       "      <td>300</td>\n",
       "      <td>469</td>\n",
       "      <td>0</td>\n",
       "      <td>792</td>\n",
       "      <td>273</td>\n",
       "      <td>545</td>\n",
       "      <td>638</td>\n",
       "      <td>835</td>\n",
       "    </tr>\n",
       "    <tr>\n",
       "      <td>Nantes</td>\n",
       "      <td>343</td>\n",
       "      <td>696</td>\n",
       "      <td>516</td>\n",
       "      <td>466</td>\n",
       "      <td>792</td>\n",
       "      <td>0</td>\n",
       "      <td>584</td>\n",
       "      <td>710</td>\n",
       "      <td>276</td>\n",
       "      <td>508</td>\n",
       "    </tr>\n",
       "    <tr>\n",
       "      <td>Montpellier</td>\n",
       "      <td>596</td>\n",
       "      <td>126</td>\n",
       "      <td>251</td>\n",
       "      <td>196</td>\n",
       "      <td>273</td>\n",
       "      <td>584</td>\n",
       "      <td>0</td>\n",
       "      <td>629</td>\n",
       "      <td>381</td>\n",
       "      <td>784</td>\n",
       "    </tr>\n",
       "    <tr>\n",
       "      <td>Strasbourg</td>\n",
       "      <td>397</td>\n",
       "      <td>617</td>\n",
       "      <td>384</td>\n",
       "      <td>737</td>\n",
       "      <td>545</td>\n",
       "      <td>710</td>\n",
       "      <td>629</td>\n",
       "      <td>0</td>\n",
       "      <td>760</td>\n",
       "      <td>408</td>\n",
       "    </tr>\n",
       "    <tr>\n",
       "      <td>Bordeaux</td>\n",
       "      <td>500</td>\n",
       "      <td>506</td>\n",
       "      <td>436</td>\n",
       "      <td>212</td>\n",
       "      <td>638</td>\n",
       "      <td>276</td>\n",
       "      <td>381</td>\n",
       "      <td>760</td>\n",
       "      <td>0</td>\n",
       "      <td>700</td>\n",
       "    </tr>\n",
       "    <tr>\n",
       "      <td>Lille</td>\n",
       "      <td>204</td>\n",
       "      <td>835</td>\n",
       "      <td>558</td>\n",
       "      <td>792</td>\n",
       "      <td>835</td>\n",
       "      <td>508</td>\n",
       "      <td>784</td>\n",
       "      <td>408</td>\n",
       "      <td>700</td>\n",
       "      <td>0</td>\n",
       "    </tr>\n",
       "  </tbody>\n",
       "</table>\n",
       "</div>"
      ],
      "text/plain": [
       "            Paris Marseille Lyon Toulouse Nice Nantes Montpellier Strasbourg  \\\n",
       "Paris           0       661  392      589  688    343         596        397   \n",
       "Marseille     661         0  278      319  159    696         126        617   \n",
       "Lyon          392       278    0      360  300    516         251        384   \n",
       "Toulouse      589       319  360        0  469    466         196        737   \n",
       "Nice          688       159  300      469    0    792         273        545   \n",
       "Nantes        343       696  516      466  792      0         584        710   \n",
       "Montpellier   596       126  251      196  273    584           0        629   \n",
       "Strasbourg    397       617  384      737  545    710         629          0   \n",
       "Bordeaux      500       506  436      212  638    276         381        760   \n",
       "Lille         204       835  558      792  835    508         784        408   \n",
       "\n",
       "            Bordeaux Lille  \n",
       "Paris            500   204  \n",
       "Marseille        506   835  \n",
       "Lyon             436   558  \n",
       "Toulouse         212   792  \n",
       "Nice             638   835  \n",
       "Nantes           276   508  \n",
       "Montpellier      381   784  \n",
       "Strasbourg       760   408  \n",
       "Bordeaux           0   700  \n",
       "Lille            700     0  "
      ]
     },
     "execution_count": 51,
     "metadata": {},
     "output_type": "execute_result"
    }
   ],
   "source": [
    "df.index = cities\n",
    "df.head(10)"
   ]
  }
 ],
 "metadata": {
  "kernelspec": {
   "display_name": "Python 3",
   "language": "python",
   "name": "python3"
  },
  "language_info": {
   "codemirror_mode": {
    "name": "ipython",
    "version": 3
   },
   "file_extension": ".py",
   "mimetype": "text/x-python",
   "name": "python",
   "nbconvert_exporter": "python",
   "pygments_lexer": "ipython3",
   "version": "3.6.8"
  }
 },
 "nbformat": 4,
 "nbformat_minor": 2
}
