{
 "cells": [
  {
   "cell_type": "markdown",
   "metadata": {},
   "source": [
    "# Scrapping Wikipédia\n",
    "### Tous les chemins mènent-ils à la philosophie ?\n",
    "\n",
    "INFMDI721 - TP - 03/10/2019"
   ]
  },
  {
   "cell_type": "markdown",
   "metadata": {},
   "source": [
    "\n",
    "« Une théorie veut que n'importe quel article sur Wikipedia pointe au final sur la philosophie. Pour la vérifier, il suffit de cliquer sur le premier lien d'un article Wikipedia qui mène à un autre article et ainsi de suite : à force, on tombe immanquablement sur l'article dédié à la philosophie. »\n",
    "\n",
    "Ce notebook vérifie cette théorie et renvoie la distance (int) qui sépare un article donné de l'article Philosophie.\n",
    "Il traite le cas général, pas les pages qui ont des formats spécifiques (tableaux d'aggrégations, etc.)"
   ]
  },
  {
   "cell_type": "code",
   "execution_count": 1,
   "metadata": {
    "collapsed": true
   },
   "outputs": [],
   "source": [
    "import requests\n",
    "from bs4 import BeautifulSoup"
   ]
  },
  {
   "cell_type": "markdown",
   "metadata": {},
   "source": [
    "## Recherche et validation des URLs"
   ]
  },
  {
   "cell_type": "code",
   "execution_count": 2,
   "metadata": {
    "collapsed": true
   },
   "outputs": [],
   "source": [
    "def valid_internal_link(url, nextUrl):\n",
    "    \"\"\"Check if the nextUrl is valid and different from the current one\"\"\"\n",
    "    return nextUrl.startswith('/wiki/') and 'https://fr.wikipedia.org' + nextUrl != url and not nextUrl.endswith('.jpg') and not nextUrl.endswith('.png') and not nextUrl.endswith('.ogg')"
   ]
  },
  {
   "cell_type": "code",
   "execution_count": 17,
   "metadata": {
    "collapsed": true
   },
   "outputs": [],
   "source": [
    "def extract_url(url, soup):\n",
    "    \"\"\"Extract the html code of the page given by the url and find the first url of the article\"\"\"\n",
    "    \n",
    "    # Get the div containing the content of the article, and then all the direct childrens p tags containing the text\n",
    "    ptags = soup.find(\"div\", {\"class\": \"mw-parser-output\"}).find_all(\"p\", recursive=False)\n",
    "    \n",
    "    # While the next_url is not find, we test the next p tag\n",
    "    for ptag in ptags:\n",
    "        if (not ptag.has_attr(\"class\") and ptag.find('a', href=True) != None):\n",
    "            atags = ptag.findAll('a', href=True)\n",
    "            for atag in atags:\n",
    "                if valid_internal_link(url, atag['href']):\n",
    "                    return atag['href']\n",
    "                    break\n",
    "            \n",
    "    return False"
   ]
  },
  {
   "cell_type": "markdown",
   "metadata": {},
   "source": [
    "## Programme de test"
   ]
  },
  {
   "cell_type": "code",
   "execution_count": 13,
   "metadata": {
    "collapsed": true
   },
   "outputs": [],
   "source": [
    "def process(url):\n",
    "    count = 0\n",
    "    \n",
    "    while url != 'https://fr.wikipedia.org/wiki/Philosophie' and count < 30:\n",
    "        response = requests.get(url)\n",
    "        soup = BeautifulSoup(response.text)\n",
    "        next_url = extract_url(url, soup)\n",
    "        if (not next_url):\n",
    "            return \"link not found\"\n",
    "        url = 'https://fr.wikipedia.org' + next_url\n",
    "        print(url)\n",
    "        count += 1\n",
    "\n",
    "    return count"
   ]
  },
  {
   "cell_type": "code",
   "execution_count": 18,
   "metadata": {},
   "outputs": [
    {
     "name": "stdout",
     "output_type": "stream",
     "text": [
      "https://fr.wikipedia.org/wiki/Plante\n",
      "https://fr.wikipedia.org/wiki/Organisme_(physiologie)\n",
      "https://fr.wikipedia.org/wiki/Grec\n",
      "https://fr.wikipedia.org/wiki/Grec_moderne\n",
      "https://fr.wikipedia.org/wiki/Langue\n",
      "https://fr.wikipedia.org/wiki/Syst%C3%A8me\n",
      "https://fr.wikipedia.org/wiki/Ensemble\n",
      "https://fr.wikipedia.org/wiki/Math%C3%A9matiques\n",
      "https://fr.wikipedia.org/wiki/Connaissance\n",
      "https://fr.wikipedia.org/wiki/Notion\n",
      "https://fr.wikipedia.org/wiki/Esprit\n",
      "https://fr.wikipedia.org/wiki/Ph%C3%A9nom%C3%A8ne\n",
      "https://fr.wikipedia.org/wiki/Chose_(philosophie)\n",
      "https://fr.wikipedia.org/wiki/Philosophie\n"
     ]
    },
    {
     "data": {
      "text/plain": [
       "14"
      ]
     },
     "execution_count": 18,
     "metadata": {},
     "output_type": "execute_result"
    }
   ],
   "source": [
    "pages = [\"https://fr.wikipedia.org/wiki/Cornichon\", \n",
    "         \"https://fr.wikipedia.org/wiki/Philosophie\", \n",
    "         \"https://fr.wikipedia.org/wiki/T%C3%A9l%C3%A9com_Paris\", \n",
    "         \"https://fr.wikipedia.org/wiki/Tintin_et_les_Secrets_de_famille\"]\n",
    "\n",
    "process(pages[0])"
   ]
  }
 ],
 "metadata": {
  "kernelspec": {
   "display_name": "Python 3",
   "language": "python",
   "name": "python3"
  },
  "language_info": {
   "codemirror_mode": {
    "name": "ipython",
    "version": 3
   },
   "file_extension": ".py",
   "mimetype": "text/x-python",
   "name": "python",
   "nbconvert_exporter": "python",
   "pygments_lexer": "ipython3",
   "version": "3.6.8"
  }
 },
 "nbformat": 4,
 "nbformat_minor": 2
}
