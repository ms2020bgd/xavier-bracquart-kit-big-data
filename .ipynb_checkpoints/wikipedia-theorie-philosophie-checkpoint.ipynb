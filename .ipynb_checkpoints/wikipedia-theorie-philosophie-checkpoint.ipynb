{
 "cells": [
  {
   "cell_type": "markdown",
   "metadata": {},
   "source": [
    "# Scrapping Wikipédia\n",
    "### Tous les chemins mènent-ils à la philosophie ?\n",
    "\n",
    "INFMDI721 - TP - 03/10/2019"
   ]
  },
  {
   "cell_type": "markdown",
   "metadata": {},
   "source": [
    "\n",
    "« Une théorie veut que n'importe quel article sur Wikipedia pointe au final sur la philosophie. Pour la vérifier, il suffit de cliquer sur le premier lien d'un article Wikipedia qui mène à un autre article et ainsi de suite : à force, on tombe immanquablement sur l'article dédié à la philosophie. »\n",
    "\n",
    "Ce notebook vérifie cette théorie et renvoie la distance (int) qui sépare un article donné de l'article Philosophie.\n",
    "Il traite le cas général, pas les pages qui ont des formats spécifiques (tableaux d'aggrégations, etc.)"
   ]
  },
  {
   "cell_type": "code",
   "execution_count": 1,
   "metadata": {},
   "outputs": [],
   "source": [
    "import requests\n",
    "from bs4 import BeautifulSoup"
   ]
  },
  {
   "cell_type": "markdown",
   "metadata": {},
   "source": [
    "## Recherche et validation des URLs"
   ]
  },
  {
   "cell_type": "code",
   "execution_count": 2,
   "metadata": {},
   "outputs": [],
   "source": [
    "def validInternalLink(url, nextUrl):\n",
    "    # Check if the nextUrl is valid and different of the current one\n",
    "    return nextUrl.startswith('/wiki/') and 'https://fr.wikipedia.org' + nextUrl != url and not nextUrl.endswith('.jpg') and not nextUrl.endswith('.png') and not nextUrl.endswith('.ogg')"
   ]
  },
  {
   "cell_type": "code",
   "execution_count": 3,
   "metadata": {},
   "outputs": [],
   "source": [
    "def extract_url(url, soup):\n",
    "    # Extract the html code of the page given by the url and find the first url of the article\n",
    "    lines = soup.find(\"div\", {\"class\": \"mw-parser-output\"}).findAll(\"p\", recursive=False)\n",
    "    i = 0\n",
    "    nextUrl = \"\"\n",
    "    while nextUrl == \"\":\n",
    "        #print(lines)\n",
    "        if (i >= len(lines)):\n",
    "            return False\n",
    "        while i < len(lines) and lines[i].has_attr(\"class\"): #index out of range\n",
    "            i += 1\n",
    "    \n",
    "        line = lines[i]\n",
    "        if (line.find('a', href=True) != None):\n",
    "            alabels = line.findAll('a', href=True)\n",
    "            for alabel in alabels:\n",
    "                alabel = alabel['href']\n",
    "                if validInternalLink(url, alabel):\n",
    "                    nextUrl = alabel\n",
    "                    break\n",
    "            i += 1\n",
    "        else:\n",
    "            i += 1\n",
    "    return nextUrl"
   ]
  },
  {
   "cell_type": "markdown",
   "metadata": {},
   "source": [
    "## Programme de test"
   ]
  },
  {
   "cell_type": "code",
   "execution_count": 4,
   "metadata": {},
   "outputs": [],
   "source": [
    "def process(url):\n",
    "    count = 0\n",
    "    \n",
    "    while url != 'https://fr.wikipedia.org/wiki/Philosophie' and count < 100:\n",
    "        response = requests.get(url)\n",
    "        soup = BeautifulSoup(response.text)\n",
    "        nextUrl = extract_url(url, soup)\n",
    "        if (nextUrl == False):\n",
    "            return \"link not found\"\n",
    "        url = 'https://fr.wikipedia.org' + nextUrl\n",
    "        print(url)\n",
    "        count += 1\n",
    "\n",
    "    return count"
   ]
  },
  {
   "cell_type": "code",
   "execution_count": 5,
   "metadata": {},
   "outputs": [
    {
     "name": "stdout",
     "output_type": "stream",
     "text": [
      "https://fr.wikipedia.org/wiki/Plante\n",
      "https://fr.wikipedia.org/wiki/Organisme_(physiologie)\n",
      "https://fr.wikipedia.org/wiki/Grec\n",
      "https://fr.wikipedia.org/wiki/Grec_moderne\n",
      "https://fr.wikipedia.org/wiki/Langue\n",
      "https://fr.wikipedia.org/wiki/Syst%C3%A8me\n",
      "https://fr.wikipedia.org/wiki/Ensemble\n",
      "https://fr.wikipedia.org/wiki/Math%C3%A9matiques\n",
      "https://fr.wikipedia.org/wiki/Connaissance\n",
      "https://fr.wikipedia.org/wiki/Notion\n",
      "https://fr.wikipedia.org/wiki/Esprit\n",
      "https://fr.wikipedia.org/wiki/Ph%C3%A9nom%C3%A8ne\n",
      "https://fr.wikipedia.org/wiki/Chose_(philosophie)\n",
      "https://fr.wikipedia.org/wiki/Philosophie\n"
     ]
    },
    {
     "data": {
      "text/plain": [
       "14"
      ]
     },
     "execution_count": 5,
     "metadata": {},
     "output_type": "execute_result"
    }
   ],
   "source": [
    "pages = [\"https://fr.wikipedia.org/wiki/Cornichon\", \n",
    "         \"https://fr.wikipedia.org/wiki/Philosophie\", \n",
    "         \"https://fr.wikipedia.org/wiki/T%C3%A9l%C3%A9com_Paris\", \n",
    "         \"https://fr.wikipedia.org/wiki/Tintin_et_les_Secrets_de_famille\"]\n",
    "\n",
    "process(pages[0])"
   ]
  }
 ],
 "metadata": {
  "kernelspec": {
   "display_name": "Python 3",
   "language": "python",
   "name": "python3"
  },
  "language_info": {
   "codemirror_mode": {
    "name": "ipython",
    "version": 3
   },
   "file_extension": ".py",
   "mimetype": "text/x-python",
   "name": "python",
   "nbconvert_exporter": "python",
   "pygments_lexer": "ipython3",
   "version": "3.6.8"
  }
 },
 "nbformat": 4,
 "nbformat_minor": 2
}
