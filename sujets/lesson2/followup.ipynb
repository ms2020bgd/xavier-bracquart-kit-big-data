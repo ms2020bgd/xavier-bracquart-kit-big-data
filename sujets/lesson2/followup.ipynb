{
 "cells": [
  {
   "cell_type": "markdown",
   "metadata": {},
   "source": [
    "# Quelques autres méthodes du type `str`"
   ]
  },
  {
   "cell_type": "markdown",
   "metadata": {},
   "source": [
    "### Cleaning"
   ]
  },
  {
   "cell_type": "code",
   "execution_count": 1,
   "metadata": {},
   "outputs": [
    {
     "name": "stdout",
     "output_type": "stream",
     "text": [
      "\t hello\n",
      "world  \n"
     ]
    }
   ],
   "source": [
    "# Ma string s contient:\n",
    "# - des espaces\n",
    "# - des tabulations (\\t)\n",
    "# - des retours à la ligne (\\n)\n",
    "s = \"\\t hello\\nworld  \"\n",
    "print(s)"
   ]
  },
  {
   "cell_type": "code",
   "execution_count": 2,
   "metadata": {},
   "outputs": [
    {
     "name": "stdout",
     "output_type": "stream",
     "text": [
      "\t hello world  \n"
     ]
    }
   ],
   "source": [
    "# Remplacer le retour à la ligne par un espace:\n",
    "print(s.replace('\\n', ' '))"
   ]
  },
  {
   "cell_type": "code",
   "execution_count": 3,
   "metadata": {},
   "outputs": [
    {
     "name": "stdout",
     "output_type": "stream",
     "text": [
      "hello\n",
      "world\n"
     ]
    }
   ],
   "source": [
    "# Enlever les caractères blancs au début et à la fin de la string:\n",
    "print(s.strip())"
   ]
  },
  {
   "cell_type": "code",
   "execution_count": 4,
   "metadata": {},
   "outputs": [
    {
     "name": "stdout",
     "output_type": "stream",
     "text": [
      "hello world\n"
     ]
    }
   ],
   "source": [
    "cleaned = s.replace('\\n', ' ').strip()\n",
    "print(cleaned)"
   ]
  },
  {
   "cell_type": "markdown",
   "metadata": {},
   "source": [
    "### Trouver une str dans une autre"
   ]
  },
  {
   "cell_type": "code",
   "execution_count": 5,
   "metadata": {},
   "outputs": [
    {
     "data": {
      "text/plain": [
       "True"
      ]
     },
     "execution_count": 5,
     "metadata": {},
     "output_type": "execute_result"
    }
   ],
   "source": [
    "cleaned.startswith('he')"
   ]
  },
  {
   "cell_type": "code",
   "execution_count": 6,
   "metadata": {},
   "outputs": [
    {
     "data": {
      "text/plain": [
       "True"
      ]
     },
     "execution_count": 6,
     "metadata": {},
     "output_type": "execute_result"
    }
   ],
   "source": [
    "cleaned.endswith('orld')"
   ]
  },
  {
   "cell_type": "code",
   "execution_count": 7,
   "metadata": {},
   "outputs": [
    {
     "data": {
      "text/plain": [
       "True"
      ]
     },
     "execution_count": 7,
     "metadata": {},
     "output_type": "execute_result"
    }
   ],
   "source": [
    "\"wo\" in cleaned"
   ]
  },
  {
   "cell_type": "code",
   "execution_count": 8,
   "metadata": {},
   "outputs": [
    {
     "data": {
      "text/plain": [
       "6"
      ]
     },
     "execution_count": 8,
     "metadata": {},
     "output_type": "execute_result"
    }
   ],
   "source": [
    "cleaned.index(\"wor\")  # renvoie la position de \"wor\" dans \"hello world\""
   ]
  },
  {
   "cell_type": "markdown",
   "metadata": {},
   "source": [
    "### str.join\n",
    "\n",
    "Permet de joindre une liste de strings."
   ]
  },
  {
   "cell_type": "code",
   "execution_count": 9,
   "metadata": {},
   "outputs": [
    {
     "data": {
      "text/plain": [
       "'how are you'"
      ]
     },
     "execution_count": 9,
     "metadata": {},
     "output_type": "execute_result"
    }
   ],
   "source": [
    "\" \".join(['how', 'are', 'you'])"
   ]
  },
  {
   "cell_type": "code",
   "execution_count": 10,
   "metadata": {},
   "outputs": [
    {
     "data": {
      "text/plain": [
       "'how---are---you'"
      ]
     },
     "execution_count": 10,
     "metadata": {},
     "output_type": "execute_result"
    }
   ],
   "source": [
    "\"---\".join(['how', 'are', 'you'])"
   ]
  },
  {
   "cell_type": "markdown",
   "metadata": {},
   "source": [
    "Dans jupyterlab, pensez à utiliser `<Tab>` pour l'autocomplétion et pour découvrir quelles méthodes un type possède. `<Shift>` + `<Tab>` pour afficher la documentation d'une fonction.\n",
    "\n",
    "Je vous invite aussi à survoler les fonctions présentes de base en python:\n",
    "- https://docs.python.org/3/library/functions.html\n",
    "\n",
    "Ainsi que les modules présents de base (stdlib):\n",
    "- https://docs.python.org/3/library/\n",
    "\n",
    "Et pour tout le reste il y a pypi:\n",
    "- http://pypi.org"
   ]
  },
  {
   "cell_type": "code",
   "execution_count": 11,
   "metadata": {},
   "outputs": [
    {
     "name": "stdout",
     "output_type": "stream",
     "text": [
      "<Response [404]>\n"
     ]
    }
   ],
   "source": [
    "# \"pip install requests\" pour pouvoir l'utiliser\n",
    "import requests\n",
    "\n",
    "response = requests.get('https://fr.wikipedia.org/plop')\n",
    "print(response)"
   ]
  },
  {
   "cell_type": "code",
   "execution_count": 12,
   "metadata": {},
   "outputs": [
    {
     "name": "stdout",
     "output_type": "stream",
     "text": [
      "404\n"
     ]
    }
   ],
   "source": [
    "print(response.status_code)"
   ]
  },
  {
   "cell_type": "code",
   "execution_count": 13,
   "metadata": {},
   "outputs": [
    {
     "name": "stdout",
     "output_type": "stream",
     "text": [
      "\n",
      "<!doctype html>\n",
      "<html class=\"no-js\" lang=\"fr-FR\"\n",
      "      data-original-lang=\"fr-FR\"\n",
      "      data-re\n"
     ]
    }
   ],
   "source": [
    "page = \"https://www.beerwulf.com/fr-fr/p/bieres/brasserie-de-sutter-brin-de-folie.33\"\n",
    "content = requests.get(page).text\n",
    "print(content[:100])"
   ]
  },
  {
   "cell_type": "markdown",
   "metadata": {},
   "source": [
    "Pour voir le code source HTML d'une page dans le navigateur:\n",
    "- Ctrl-U\n",
    "- ou F12 > Elements"
   ]
  },
  {
   "cell_type": "code",
   "execution_count": 14,
   "metadata": {},
   "outputs": [],
   "source": [
    "before_price = '<span class=\"price\">'\n",
    "idx = content.index(before_price)\n",
    "price = content[idx+len(before_price):idx+100]\n",
    "price = price.split('<')[0]"
   ]
  },
  {
   "cell_type": "code",
   "execution_count": 15,
   "metadata": {},
   "outputs": [
    {
     "data": {
      "text/plain": [
       "'€ 2,29'"
      ]
     },
     "execution_count": 15,
     "metadata": {},
     "output_type": "execute_result"
    }
   ],
   "source": [
    "price"
   ]
  },
  {
   "cell_type": "code",
   "execution_count": 16,
   "metadata": {},
   "outputs": [
    {
     "name": "stdout",
     "output_type": "stream",
     "text": [
      "2.29\n"
     ]
    }
   ],
   "source": [
    "print(float(price[2:].replace(',', '.')))"
   ]
  },
  {
   "cell_type": "markdown",
   "metadata": {},
   "source": [
    "### Moralité\n",
    "C'est un peu le bordel d'extraire des infos du document html en manipulant le document comme une bête str.\n",
    "\n",
    "Here comes beautifulsoup:"
   ]
  },
  {
   "cell_type": "code",
   "execution_count": 17,
   "metadata": {},
   "outputs": [],
   "source": [
    "from bs4 import BeautifulSoup"
   ]
  },
  {
   "cell_type": "markdown",
   "metadata": {},
   "source": [
    "Je vous invite à tester le HTML suivant sur https://html.house.\n",
    "\n",
    "([Cours HTML/CSS sur openclassrooms](https://openclassrooms.com/fr/courses/1603881-apprenez-a-creer-votre-site-web-avec-html5-et-css3))"
   ]
  },
  {
   "cell_type": "code",
   "execution_count": 18,
   "metadata": {},
   "outputs": [],
   "source": [
    "html = \"\"\"\n",
    "<html>\n",
    "    <head>\n",
    "        <style>\n",
    "        h1 { font-size: 50px; }\n",
    "        body { font-family: Verdana; }\n",
    "        li { color: red; }\n",
    "        ul ul li { color: green; }\n",
    "        .highlighted { font-weight: bold; }\n",
    "        .italic { font-style: italic; }\n",
    "        .highlighted.italic { }\n",
    "        </style>\n",
    "    </head>\n",
    "    <body>\n",
    "        <h1>Mon titre</h1>\n",
    "        <p class=\"highlighted\">\n",
    "            Some text with a<br>\n",
    "            <a href=\"https://google.com\">link to google</a>\n",
    "            <img src=\"https://picsum.photos/200/300\">\n",
    "        </p>\n",
    "        <p>Some list:</p>\n",
    "        <ul>\n",
    "            <li>some item</li>\n",
    "            <li class=\"highlighted italic\">some item</li>\n",
    "            <li class=\"italic\">some item</li>\n",
    "            <ul>\n",
    "                <li>some other item 1</li>\n",
    "                <li>some other item 2</li>\n",
    "            </ul>\n",
    "            <li>some item</li>\n",
    "        </ul>\n",
    "    </body>\n",
    "</html>\n",
    "\"\"\""
   ]
  },
  {
   "cell_type": "code",
   "execution_count": 19,
   "metadata": {},
   "outputs": [],
   "source": [
    "from bs4 import BeautifulSoup\n",
    "soup = BeautifulSoup(html)"
   ]
  },
  {
   "cell_type": "code",
   "execution_count": 20,
   "metadata": {},
   "outputs": [],
   "source": [
    "titre = soup.find('h1')"
   ]
  },
  {
   "cell_type": "code",
   "execution_count": 21,
   "metadata": {},
   "outputs": [
    {
     "data": {
      "text/plain": [
       "<h1>Mon titre</h1>"
      ]
     },
     "execution_count": 21,
     "metadata": {},
     "output_type": "execute_result"
    }
   ],
   "source": [
    "titre"
   ]
  },
  {
   "cell_type": "code",
   "execution_count": 22,
   "metadata": {},
   "outputs": [
    {
     "data": {
      "text/plain": [
       "bs4.element.Tag"
      ]
     },
     "execution_count": 22,
     "metadata": {},
     "output_type": "execute_result"
    }
   ],
   "source": [
    "type(titre)"
   ]
  },
  {
   "cell_type": "code",
   "execution_count": 23,
   "metadata": {},
   "outputs": [
    {
     "data": {
      "text/plain": [
       "'Mon titre'"
      ]
     },
     "execution_count": 23,
     "metadata": {},
     "output_type": "execute_result"
    }
   ],
   "source": [
    "titre.text"
   ]
  },
  {
   "cell_type": "code",
   "execution_count": 24,
   "metadata": {},
   "outputs": [
    {
     "data": {
      "text/plain": [
       "'h1'"
      ]
     },
     "execution_count": 24,
     "metadata": {},
     "output_type": "execute_result"
    }
   ],
   "source": [
    "titre.name"
   ]
  },
  {
   "cell_type": "code",
   "execution_count": 25,
   "metadata": {},
   "outputs": [
    {
     "data": {
      "text/plain": [
       "{'href': 'https://google.com'}"
      ]
     },
     "execution_count": 25,
     "metadata": {},
     "output_type": "execute_result"
    }
   ],
   "source": [
    "link = soup.find('a')\n",
    "link.attrs"
   ]
  },
  {
   "cell_type": "code",
   "execution_count": 26,
   "metadata": {},
   "outputs": [],
   "source": [
    "paragraph = soup.find('p')"
   ]
  },
  {
   "cell_type": "code",
   "execution_count": 27,
   "metadata": {},
   "outputs": [
    {
     "data": {
      "text/plain": [
       "<p class=\"highlighted\">\n",
       "            Some text with a<br/>\n",
       "<a href=\"https://google.com\">link to google</a>\n",
       "<img src=\"https://picsum.photos/200/300\"/>\n",
       "</p>"
      ]
     },
     "execution_count": 27,
     "metadata": {},
     "output_type": "execute_result"
    }
   ],
   "source": [
    "paragraph"
   ]
  },
  {
   "cell_type": "code",
   "execution_count": 28,
   "metadata": {},
   "outputs": [
    {
     "data": {
      "text/plain": [
       "<img src=\"https://picsum.photos/200/300\"/>"
      ]
     },
     "execution_count": 28,
     "metadata": {},
     "output_type": "execute_result"
    }
   ],
   "source": [
    "paragraph.find('img')"
   ]
  },
  {
   "cell_type": "code",
   "execution_count": 29,
   "metadata": {},
   "outputs": [
    {
     "data": {
      "text/plain": [
       "[<li class=\"highlighted italic\">some item</li>,\n",
       " <li class=\"italic\">some item</li>]"
      ]
     },
     "execution_count": 29,
     "metadata": {},
     "output_type": "execute_result"
    }
   ],
   "source": [
    "soup.find_all('li', class_=\"italic\")"
   ]
  },
  {
   "cell_type": "code",
   "execution_count": 30,
   "metadata": {},
   "outputs": [
    {
     "data": {
      "text/plain": [
       "[<li class=\"highlighted italic\">some item</li>,\n",
       " <li class=\"italic\">some item</li>]"
      ]
     },
     "execution_count": 30,
     "metadata": {},
     "output_type": "execute_result"
    }
   ],
   "source": [
    "# La même chose qu'au dessus, mais à l'aide d'un sélecteur css:\n",
    "soup.select('li.italic')"
   ]
  },
  {
   "cell_type": "code",
   "execution_count": 31,
   "metadata": {},
   "outputs": [
    {
     "data": {
      "text/plain": [
       "[<li>some other item 1</li>, <li>some other item 2</li>]"
      ]
     },
     "execution_count": 31,
     "metadata": {},
     "output_type": "execute_result"
    }
   ],
   "source": [
    "# Récupérer les li de 2e niveau (qui sont dans un ul lui-même dans un ul)\n",
    "soup.find('ul').find('ul').find_all('li')"
   ]
  },
  {
   "cell_type": "code",
   "execution_count": 32,
   "metadata": {},
   "outputs": [
    {
     "data": {
      "text/plain": [
       "[<li>some other item 1</li>, <li>some other item 2</li>]"
      ]
     },
     "execution_count": 32,
     "metadata": {},
     "output_type": "execute_result"
    }
   ],
   "source": [
    "# Même chose avec un sélecteur css:\n",
    "soup.select('ul ul li')"
   ]
  },
  {
   "cell_type": "code",
   "execution_count": 33,
   "metadata": {},
   "outputs": [
    {
     "data": {
      "text/plain": [
       "<li>some other item 1</li>"
      ]
     },
     "execution_count": 33,
     "metadata": {},
     "output_type": "execute_result"
    }
   ],
   "source": [
    "li = soup.select('ul ul li')[0]\n",
    "li"
   ]
  },
  {
   "cell_type": "code",
   "execution_count": 34,
   "metadata": {},
   "outputs": [
    {
     "data": {
      "text/plain": [
       "<li>some other item 2</li>"
      ]
     },
     "execution_count": 34,
     "metadata": {},
     "output_type": "execute_result"
    }
   ],
   "source": [
    "li.find_next_sibling()"
   ]
  },
  {
   "cell_type": "code",
   "execution_count": 35,
   "metadata": {},
   "outputs": [
    {
     "data": {
      "text/plain": [
       "<ul>\n",
       "<li>some other item 1</li>\n",
       "<li>some other item 2</li>\n",
       "</ul>"
      ]
     },
     "execution_count": 35,
     "metadata": {},
     "output_type": "execute_result"
    }
   ],
   "source": [
    "li.parent"
   ]
  },
  {
   "cell_type": "code",
   "execution_count": 36,
   "metadata": {},
   "outputs": [
    {
     "data": {
      "text/plain": [
       "['\\n', <li>some other item 1</li>, '\\n', <li>some other item 2</li>, '\\n']"
      ]
     },
     "execution_count": 36,
     "metadata": {},
     "output_type": "execute_result"
    }
   ],
   "source": [
    "li.parent.contents"
   ]
  },
  {
   "cell_type": "code",
   "execution_count": 37,
   "metadata": {},
   "outputs": [
    {
     "data": {
      "text/plain": [
       "[<li>some other item 1</li>, <li>some other item 2</li>]"
      ]
     },
     "execution_count": 37,
     "metadata": {},
     "output_type": "execute_result"
    }
   ],
   "source": [
    "li.parent.find_all()  # même chose que .contents mais renvoie uniquement les Tag"
   ]
  },
  {
   "cell_type": "markdown",
   "metadata": {},
   "source": [
    "### Cas concret: beerwulf.com"
   ]
  },
  {
   "cell_type": "code",
   "execution_count": 38,
   "metadata": {},
   "outputs": [],
   "source": [
    "from bs4 import BeautifulSoup\n",
    "\n",
    "def get_soup_from_url(url):\n",
    "    page = requests.get(url)\n",
    "    return BeautifulSoup(page.text)\n",
    "    \n",
    "def extract_beer_infos(url):\n",
    "    soup = get_soup_from_url(url)\n",
    "    \n",
    "    # Extract price:\n",
    "    price = soup.select('span.price')[0].text\n",
    "    price = float(price[2:].replace(',', '.'))  # \"€ 2,29\" => 2.29\n",
    "    \n",
    "    # Extract volume:\n",
    "    volume = soup.find('dt', text='Contenu').find_next_sibling()\n",
    "    volume = int(volume.text[:-2])  # \"33cl\" => 33\n",
    "    \n",
    "    # Extract evaluation:\n",
    "    note = soup.find('div', class_='stars')\n",
    "    note = int(note.attrs['data-percent'])\n",
    "    \n",
    "    # Extract EBC:\n",
    "    ebc = soup.find('div', class_='ebc')\n",
    "    children = ebc.find_all('div')\n",
    "    active_tag = ebc.find('div', class_='active')\n",
    "    position = children.index(active_tag)\n",
    "    ebc_pct = position / len(children) * 100\n",
    "    \n",
    "    infos = {\n",
    "        'price': price,\n",
    "        'volume': volume,\n",
    "        'note': note,\n",
    "        'ebc': ebc_pct,\n",
    "    }\n",
    "    return infos"
   ]
  },
  {
   "cell_type": "code",
   "execution_count": 39,
   "metadata": {},
   "outputs": [
    {
     "data": {
      "text/plain": [
       "{'price': 2.29, 'volume': 33, 'note': 70, 'ebc': 7.6923076923076925}"
      ]
     },
     "execution_count": 39,
     "metadata": {},
     "output_type": "execute_result"
    }
   ],
   "source": [
    "extract_beer_infos(\"https://www.beerwulf.com/fr-fr/p/bieres/brugse-zot-blond2\")"
   ]
  },
  {
   "cell_type": "markdown",
   "metadata": {},
   "source": [
    "### Inconvénients du scraping:\n",
    "\n",
    "1) le contenu généré dynamiquement en javascript n'est pas présent initialement sur la page, ce qui fait qu'on peut avoir un contenu différent entre ce qu'on trouve dans l'inspecteur (sur chrome: F12 > Elements)"
   ]
  },
  {
   "cell_type": "code",
   "execution_count": 40,
   "metadata": {},
   "outputs": [],
   "source": [
    "soup = get_soup_from_url(\"https://www.beerwulf.com/fr-fr/c/bieres/style/Blonde\")"
   ]
  },
  {
   "cell_type": "code",
   "execution_count": 41,
   "metadata": {},
   "outputs": [],
   "source": [
    "# Ce find ne renvoie rien car le products-container est ajouté via Javascript\n",
    "soup.find('div', class_=\"products-container\")"
   ]
  },
  {
   "cell_type": "markdown",
   "metadata": {},
   "source": [
    "Un exemple minimal de page où le code source de la page ne contient pas les données initialement: https://kim.fspot.org/cours/page4.html"
   ]
  },
  {
   "cell_type": "code",
   "execution_count": 42,
   "metadata": {},
   "outputs": [],
   "source": [
    "infos = [\n",
    "    extract_beer_infos('https://www.beerwulf.com/fr-fr/p/bieres/brouwerij-t-verzet-super-noah.33'),\n",
    "    extract_beer_infos('https://www.beerwulf.com/fr-fr/p/bieres/bruxellensis2')\n",
    "]"
   ]
  },
  {
   "cell_type": "code",
   "execution_count": 43,
   "metadata": {},
   "outputs": [
    {
     "data": {
      "text/plain": [
       "[{'price': 1.99, 'volume': 33, 'note': 70, 'ebc': 15.384615384615385},\n",
       " {'price': 3.49, 'volume': 33, 'note': 70, 'ebc': 15.384615384615385}]"
      ]
     },
     "execution_count": 43,
     "metadata": {},
     "output_type": "execute_result"
    }
   ],
   "source": [
    "infos"
   ]
  },
  {
   "cell_type": "code",
   "execution_count": 44,
   "metadata": {},
   "outputs": [],
   "source": [
    "import pandas as pd\n",
    "df = pd.DataFrame(infos)"
   ]
  },
  {
   "cell_type": "code",
   "execution_count": 45,
   "metadata": {},
   "outputs": [
    {
     "data": {
      "text/html": [
       "<div>\n",
       "<style scoped>\n",
       "    .dataframe tbody tr th:only-of-type {\n",
       "        vertical-align: middle;\n",
       "    }\n",
       "\n",
       "    .dataframe tbody tr th {\n",
       "        vertical-align: top;\n",
       "    }\n",
       "\n",
       "    .dataframe thead th {\n",
       "        text-align: right;\n",
       "    }\n",
       "</style>\n",
       "<table border=\"1\" class=\"dataframe\">\n",
       "  <thead>\n",
       "    <tr style=\"text-align: right;\">\n",
       "      <th></th>\n",
       "      <th>price</th>\n",
       "      <th>volume</th>\n",
       "      <th>note</th>\n",
       "      <th>ebc</th>\n",
       "    </tr>\n",
       "  </thead>\n",
       "  <tbody>\n",
       "    <tr>\n",
       "      <td>0</td>\n",
       "      <td>1.99</td>\n",
       "      <td>33</td>\n",
       "      <td>70</td>\n",
       "      <td>15.384615</td>\n",
       "    </tr>\n",
       "    <tr>\n",
       "      <td>1</td>\n",
       "      <td>3.49</td>\n",
       "      <td>33</td>\n",
       "      <td>70</td>\n",
       "      <td>15.384615</td>\n",
       "    </tr>\n",
       "  </tbody>\n",
       "</table>\n",
       "</div>"
      ],
      "text/plain": [
       "   price  volume  note        ebc\n",
       "0   1.99      33    70  15.384615\n",
       "1   3.49      33    70  15.384615"
      ]
     },
     "execution_count": 45,
     "metadata": {},
     "output_type": "execute_result"
    }
   ],
   "source": [
    "df"
   ]
  },
  {
   "cell_type": "code",
   "execution_count": 46,
   "metadata": {},
   "outputs": [
    {
     "data": {
      "text/html": [
       "<div>\n",
       "<style scoped>\n",
       "    .dataframe tbody tr th:only-of-type {\n",
       "        vertical-align: middle;\n",
       "    }\n",
       "\n",
       "    .dataframe tbody tr th {\n",
       "        vertical-align: top;\n",
       "    }\n",
       "\n",
       "    .dataframe thead th {\n",
       "        text-align: right;\n",
       "    }\n",
       "</style>\n",
       "<table border=\"1\" class=\"dataframe\">\n",
       "  <thead>\n",
       "    <tr style=\"text-align: right;\">\n",
       "      <th></th>\n",
       "      <th>price</th>\n",
       "      <th>volume</th>\n",
       "      <th>note</th>\n",
       "      <th>ebc</th>\n",
       "    </tr>\n",
       "  </thead>\n",
       "  <tbody>\n",
       "    <tr>\n",
       "      <td>0</td>\n",
       "      <td>1.99</td>\n",
       "      <td>33</td>\n",
       "      <td>70</td>\n",
       "      <td>15.384615</td>\n",
       "    </tr>\n",
       "  </tbody>\n",
       "</table>\n",
       "</div>"
      ],
      "text/plain": [
       "   price  volume  note        ebc\n",
       "0   1.99      33    70  15.384615"
      ]
     },
     "execution_count": 46,
     "metadata": {},
     "output_type": "execute_result"
    }
   ],
   "source": [
    "df[df.price < 2]"
   ]
  },
  {
   "cell_type": "markdown",
   "metadata": {},
   "source": [
    "2) inconvénient du scraping: on est tributaire de l'architecture du HTML. Si les développeurs du site web changent le design, il y a de fortes chances que le programme beautifulsoup doive être réécrit.\n",
    "\n",
    "Solution: **préférer une API**\n",
    "\n",
    "## What is an \"API\" ?\n",
    "\n",
    "Le terme \"API\" est très générique et peut désigner bien des choses, mais dans le jargon on l'utilise souvent pour désigner un service web qui renvoie non pas:\n",
    "> des pages web au format HTML (destinées à être lues par un humain dans son navigateur)\n",
    "\n",
    "mais:\n",
    "> des données au format JSON (destinées à être traitées par un programme)\n",
    "\n",
    "![img](https://miro.medium.com/max/4238/1*OcmVkcsM5BWRHrg8GC17iw.png)\n",
    "\n",
    "Puisque les API sont dédiées à l'usage via des programmes, elles disposent en général d'une bonne documentation, et sont fiables et stables dans le temps. Tandis que sur des pages web HTML classiques, le design peut par exemple changer du jour au lendemain et rendre votre programme BeautifulSoup obsolète."
   ]
  },
  {
   "cell_type": "markdown",
   "metadata": {},
   "source": [
    "### Exemple: deezer (site web) VS deezer API\n",
    "\n",
    "Récupérer le nombre de fans d'un artiste:"
   ]
  },
  {
   "cell_type": "code",
   "execution_count": 47,
   "metadata": {},
   "outputs": [],
   "source": [
    "# Site web\n",
    "response = requests.get(\"https://www.deezer.com/fr/artist/939\")\n",
    "soup = BeautifulSoup(response.text)\n",
    "nb_fans = int(soup.find('div', id='naboo_artist_social_small').span.text)"
   ]
  },
  {
   "cell_type": "code",
   "execution_count": 48,
   "metadata": {},
   "outputs": [
    {
     "data": {
      "text/plain": [
       "183375"
      ]
     },
     "execution_count": 48,
     "metadata": {},
     "output_type": "execute_result"
    }
   ],
   "source": [
    "nb_fans"
   ]
  },
  {
   "cell_type": "code",
   "execution_count": 49,
   "metadata": {},
   "outputs": [],
   "source": [
    "# API JSON\n",
    "response = requests.get(\"https://api.deezer.com/artist/939\")\n",
    "data = json.loads(response.text)\n",
    "nb_fans = data['nb_fan']"
   ]
  },
  {
   "cell_type": "code",
   "execution_count": 50,
   "metadata": {},
   "outputs": [
    {
     "data": {
      "text/plain": [
       "183375"
      ]
     },
     "execution_count": 50,
     "metadata": {},
     "output_type": "execute_result"
    }
   ],
   "source": [
    "nb_fans"
   ]
  },
  {
   "cell_type": "markdown",
   "metadata": {},
   "source": [
    "Encore mieux: il y a un module sur pypi pour accéder à l'api de deezer encore + facilement: https://pypi.org/project/deezer-python/"
   ]
  },
  {
   "cell_type": "code",
   "execution_count": 51,
   "metadata": {},
   "outputs": [],
   "source": [
    "import deezer\n",
    "c = deezer.Client()\n",
    "nb_fans = c.get_artist(939).nb_fan"
   ]
  },
  {
   "cell_type": "code",
   "execution_count": 52,
   "metadata": {},
   "outputs": [
    {
     "data": {
      "text/plain": [
       "183375"
      ]
     },
     "execution_count": 52,
     "metadata": {},
     "output_type": "execute_result"
    }
   ],
   "source": [
    "nb_fans"
   ]
  },
  {
   "cell_type": "markdown",
   "metadata": {},
   "source": [
    "Moralité: ne réinventez pas la roue, utilisez des modules déjà existant, ou utilisez l'API JSON officielle si ceux cis sont disponibles."
   ]
  }
 ],
 "metadata": {
  "kernelspec": {
   "display_name": "Python 3",
   "language": "python",
   "name": "python3"
  },
  "language_info": {
   "codemirror_mode": {
    "name": "ipython",
    "version": 3
   },
   "file_extension": ".py",
   "mimetype": "text/x-python",
   "name": "python",
   "nbconvert_exporter": "python",
   "pygments_lexer": "ipython3",
   "version": "3.7.4"
  }
 },
 "nbformat": 4,
 "nbformat_minor": 4
}
