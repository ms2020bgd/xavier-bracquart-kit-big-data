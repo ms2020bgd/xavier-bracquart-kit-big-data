{
 "cells": [
  {
   "cell_type": "markdown",
   "metadata": {},
   "source": [
    "# Micro site web en python\n",
    "\n",
    "Réalisé à l'aide du package [Flask](https://pypi.org/project/Flask/).\n",
    "\n",
    "Attention: si vous executez la cellule ci dessous, elle ne s'arrêtera pas. Pour l'interrompre dans jupyterlab: Kernel > Interrupt Kernel.\n",
    "\n",
    "Quand le site s'exécute, rendez vous sur http://127.0.0.1:5000 pour le consulter.\n",
    "\n",
    "(127.0.0.1 est l'adresse IP de votre propre ordinateur)"
   ]
  },
  {
   "cell_type": "code",
   "execution_count": 4,
   "metadata": {},
   "outputs": [
    {
     "name": "stdout",
     "output_type": "stream",
     "text": [
      " * Serving Flask app \"site\" (lazy loading)\n",
      " * Environment: production\n",
      "   WARNING: This is a development server. Do not use it in a production deployment.\n",
      "   Use a production WSGI server instead.\n",
      " * Debug mode: off\n"
     ]
    },
    {
     "name": "stderr",
     "output_type": "stream",
     "text": [
      " * Running on http://127.0.0.1:5000/ (Press CTRL+C to quit)\n",
      "127.0.0.1 - - [26/Sep/2019 18:50:24] \"GET / HTTP/1.1\" 200 -\n",
      "127.0.0.1 - - [26/Sep/2019 18:50:24] \"GET /add-item HTTP/1.1\" 405 -\n",
      "127.0.0.1 - - [26/Sep/2019 18:50:24] \"POST /add-item HTTP/1.1\" 400 -\n",
      "127.0.0.1 - - [26/Sep/2019 18:50:24] \"POST /add-item HTTP/1.1\" 200 -\n",
      "127.0.0.1 - - [26/Sep/2019 18:50:25] \"POST /add-item HTTP/1.1\" 200 -\n",
      "127.0.0.1 - - [26/Sep/2019 18:50:25] \"GET / HTTP/1.1\" 200 -\n",
      "127.0.0.1 - - [26/Sep/2019 18:50:25] \"GET /?format=json HTTP/1.1\" 200 -\n"
     ]
    }
   ],
   "source": [
    "# This small program runs a website with two pages:\n",
    "# - GET / => returns list of items + display a form to add new item\n",
    "# - POST /add-item => add a new item, display a link to main page\n",
    "\n",
    "from flask import Flask, request\n",
    "import json\n",
    "\n",
    "site = Flask('site')\n",
    "\n",
    "todo_list = []\n",
    "\n",
    "\n",
    "@site.route('/')\n",
    "def home():\n",
    "    # On regarde si la page web a été demandée avec le paramètre &format=json\n",
    "    # dans l'url. Si c'est le cas: on renvoie la liste au format JSON.\n",
    "    format = request.args.get('format', 'html')\n",
    "    if format == 'json':\n",
    "        return json.dumps(todo_list)\n",
    "    \n",
    "    # Sinon: on génère une page HTML contenant la liste:\n",
    "    items = [f'<li>{item}</li>' for item in todo_list]\n",
    "    return f\"\"\"\n",
    "        <h1>Todo List</h1>\n",
    "        <ul>\n",
    "            {''.join(items)}\n",
    "        </ul>\n",
    "        <form action=\"/add-item\" method=\"post\">\n",
    "            <input type=\"text\" name=\"newitem\" />\n",
    "            <input type=\"submit\" value=\"ajouter\" />\n",
    "        </form>\n",
    "    \"\"\"\n",
    "\n",
    "\n",
    "@site.route('/add-item', methods=['POST'])\n",
    "def add_item():\n",
    "    item = request.form['newitem']  # retrieve the data sent by the browser\n",
    "    todo_list.append(item)\n",
    "    \n",
    "    return f\"\"\"\n",
    "        <p>\n",
    "            {item} has been added to todo-list !<br><br>\n",
    "            Go <a href=\"/\">back</a> to main page.\n",
    "        </p>\n",
    "    \"\"\"\n",
    "\n",
    "\n",
    "site.run()"
   ]
  }
 ],
 "metadata": {
  "kernelspec": {
   "display_name": "Python 3",
   "language": "python",
   "name": "python3"
  },
  "language_info": {
   "codemirror_mode": {
    "name": "ipython",
    "version": 3
   },
   "file_extension": ".py",
   "mimetype": "text/x-python",
   "name": "python",
   "nbconvert_exporter": "python",
   "pygments_lexer": "ipython3",
   "version": "3.7.4"
  }
 },
 "nbformat": 4,
 "nbformat_minor": 4
}
